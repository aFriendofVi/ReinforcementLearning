{
 "cells": [
  {
   "cell_type": "code",
   "execution_count": 1,
   "metadata": {
    "collapsed": true
   },
   "outputs": [],
   "source": [
    "import numpy as np\n",
    "import pandas as pd\n",
    "import tensorflow as tf\n",
    "import matplotlib.pyplot as plt\n",
    "import random\n",
    "from IPython import display\n",
    "import time\n",
    "import pickle\n",
    "from AGame import *\n",
    "%matplotlib inline\n",
    "float_formatter = lambda x: \"%.4f\" % x\n",
    "np.set_printoptions(formatter={'float_kind':float_formatter})\n",
    "pd.options.display.float_format = '{:20,.3f}'.format"
   ]
  },
  {
   "cell_type": "code",
   "execution_count": 2,
   "metadata": {
    "collapsed": true
   },
   "outputs": [],
   "source": [
    "def getP(C):\n",
    "    P = C/np.sum(C,axis=2)[:,:,np.newaxis]\n",
    "    return(P)"
   ]
  },
  {
   "cell_type": "code",
   "execution_count": 3,
   "metadata": {
    "collapsed": true
   },
   "outputs": [],
   "source": [
    "env = aGame()"
   ]
  },
  {
   "cell_type": "code",
   "execution_count": 4,
   "metadata": {
    "collapsed": true
   },
   "outputs": [],
   "source": [
    "V = np.zeros(env.observation_space.n)\n",
    "C = np.zeros([env.action_space.n,env.observation_space.n,env.observation_space.n])+0.01\n",
    "R = np.zeros([env.action_space.n,env.observation_space.n,env.observation_space.n])\n",
    "Pi = np.random.randint(env.action_space.n,size = (env.observation_space.n))\n",
    "P = getP(C)\n",
    "# P = np.zeros([env.observation_space.n,env.observation_space.n,])+1/(env.observation_space.n)\n",
    "# V0List = []"
   ]
  },
  {
   "cell_type": "code",
   "execution_count": null,
   "metadata": {
    "collapsed": false
   },
   "outputs": [],
   "source": [
    "# f = open('train.pickle','rb') \n",
    "# V, C, P, R, Pi = pickle.load(f)\n",
    "# f.close()"
   ]
  },
  {
   "cell_type": "code",
   "execution_count": 13,
   "metadata": {
    "collapsed": false,
    "scrolled": true
   },
   "outputs": [
    {
     "name": "stdout",
     "output_type": "stream",
     "text": [
      "Episode  5000\n"
     ]
    }
   ],
   "source": [
    "episodeMax = 5000\n",
    "gamma = 0.99\n",
    "done = False\n",
    "weight = 0.1\n",
    "\n",
    "rList = []\n",
    "avgRList = []\n",
    "flag = True\n",
    "\n",
    "rationality = 0.5\n",
    "\n",
    "for episode in range(episodeMax):\n",
    "    rationality += 0.01\n",
    "    display.clear_output(wait=True)\n",
    "    print('Episode ',episode+1) \n",
    "#     time.sleep(0.8)\n",
    "    state = env.reset()\n",
    "    done = False\n",
    "#     V0List.append(V[0])\n",
    "    while not done:\n",
    "        statePre = state\n",
    "        if np.random.rand()<min(rationality,0.8):\n",
    "            a1 = Pi[statePre[0]]\n",
    "            a2 = Pi[statePre[1]]\n",
    "        else:\n",
    "            a1 = np.random.randint(3)\n",
    "            a2 = np.random.randint(3)\n",
    "            \n",
    "        state,reward,done,info = env.step(a1,a2)\n",
    "        a1 = env.a1\n",
    "        a2 = env.a2\n",
    "#         display.clear_output(wait=True)\n",
    "#         env.render()\n",
    "#         time.sleep(0.3)\n",
    "        R[a1,statePre[0],state[0]] =  R[a1,statePre[0],state[0]]*(1-weight) + reward[0]*weight\n",
    "        R[a2,statePre[1],state[1]] =  R[a2,statePre[1],state[1]]*(1-weight) + reward[1]*weight\n",
    "        C[a1,statePre[0],state[0]] += 0.5\n",
    "        C[a2,statePre[1],state[1]] += 0.5\n",
    "        P = getP(C)\n",
    "        \n",
    "        # evaluate the current policy\n",
    "        V[statePre[0]] = V[statePre[0]]*(1-weight)+(weight)*np.dot(P[a1,statePre[0],:],(R[a1,statePre[0],:]+V*gamma).T)\n",
    "        V[statePre[1]] = V[statePre[1]]*(1-weight)+(weight)*np.dot(P[a2,statePre[1],:],(R[a2,statePre[1],:]+V*gamma).T)\n",
    "        \n",
    "        # improve policy\n",
    "#         QBest = V\n",
    "        Qsa =np.einsum('ijk,ijk->ji',P[:,:,:],R[:,:,:]+V[np.newaxis,np.newaxis,:]*gamma)\n",
    "        Pi = np.argmax(Qsa+0.1*np.random.rand(env.observation_space.n,env.action_space.n),axis = 1)\n",
    "        \n",
    "\n",
    "#Saving the train result\n",
    "f = open('train.pickle', 'wb')  \n",
    "pickle.dump([V, C, P, R, Pi,rationality], f)\n",
    "f.close()"
   ]
  },
  {
   "cell_type": "code",
   "execution_count": 14,
   "metadata": {
    "collapsed": false
   },
   "outputs": [
    {
     "data": {
      "text/plain": [
       "array([[0, 0, 1, 1],\n",
       "       [0, 0, 0, 0],\n",
       "       [0, 0, 1, 0],\n",
       "       [1, 1, 1, 1]])"
      ]
     },
     "execution_count": 14,
     "metadata": {},
     "output_type": "execute_result"
    }
   ],
   "source": [
    "Pi.reshape(4,4)"
   ]
  },
  {
   "cell_type": "code",
   "execution_count": 18,
   "metadata": {
    "collapsed": false,
    "scrolled": true
   },
   "outputs": [
    {
     "data": {
      "text/plain": [
       "array([[4.2462, -2.5516, -4.3612, -4.6360],\n",
       "       [8.2192, 4.2779, 3.1521, 2.8697],\n",
       "       [10.1045, 4.6066, 4.1805, 3.3218],\n",
       "       [10.4822, 5.2896, 4.3451, 4.0648]])"
      ]
     },
     "execution_count": 18,
     "metadata": {},
     "output_type": "execute_result"
    }
   ],
   "source": [
    "V.reshape(4,4)"
   ]
  },
  {
   "cell_type": "code",
   "execution_count": 5,
   "metadata": {
    "collapsed": false
   },
   "outputs": [
    {
     "data": {
      "text/plain": [
       "[0, 0]"
      ]
     },
     "execution_count": 5,
     "metadata": {},
     "output_type": "execute_result"
    }
   ],
   "source": [
    "env.reset()"
   ]
  },
  {
   "cell_type": "code",
   "execution_count": 11,
   "metadata": {
    "collapsed": false
   },
   "outputs": [
    {
     "name": "stdout",
     "output_type": "stream",
     "text": [
      "================================================================\n",
      "|                                                              |\n",
      "|                    XXXX A weird Game XXXX                    |\n",
      "|                                                              |\n",
      "|                         Robot DEFEND                         |\n",
      "|                                                              |\n",
      "|         ===========================================          |\n",
      "|                                                              |\n",
      "|                       Robot Ki: [*--]                        |\n",
      "|                                                              |\n",
      "|                     Xiaoli Hu Ki: [*--]                      |\n",
      "|                                                              |\n",
      "|         ===========================================          |\n",
      "|                                                              |\n",
      "|                       Xiaoli Hu DEFEND                       |\n",
      "|                                                              |\n",
      "|       [1]GATHER Ki  [2]ATTACK  [3]DEFEND  [4]Exit Game       |\n",
      "|                                                              |\n",
      "|                                                              |\n",
      "================================================================\n"
     ]
    }
   ],
   "source": [
    "env.step(2,2)\n",
    "env.render()"
   ]
  }
 ],
 "metadata": {
  "anaconda-cloud": {},
  "kernelspec": {
   "display_name": "Python [conda root]",
   "language": "python",
   "name": "conda-root-py"
  },
  "language_info": {
   "codemirror_mode": {
    "name": "ipython",
    "version": 3
   },
   "file_extension": ".py",
   "mimetype": "text/x-python",
   "name": "python",
   "nbconvert_exporter": "python",
   "pygments_lexer": "ipython3",
   "version": "3.5.2"
  }
 },
 "nbformat": 4,
 "nbformat_minor": 1
}
