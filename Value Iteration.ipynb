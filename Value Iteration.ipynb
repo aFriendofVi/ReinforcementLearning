{
 "cells": [
  {
   "cell_type": "markdown",
   "metadata": {},
   "source": [
    "## The formula\n",
    "\n",
    "$$ V^*(s_0) = \\max_{a_{1,2,3...}} \\mathbb{E}[\\sum_{t=0}^{\\infty}\\gamma^t r(s_t,s_{t+1},a_t) ]$$\n",
    "\n",
    "$$ V^*(s_t) = \\max_{a_t} \\mathbb{E}[r(s_t, s_{t+1}, a_t)]_{|s_t} + \\gamma \\max_{a_{t+1}} \\int_S Prob(s_{t+2} | s_{t+1}, a_{t+1}) V^*(s_{t+1}) d s_{t+2}$$\n",
    "\n",
    "Discrete action space case:\n",
    "\n",
    "$$ V^*(s_t) = \\max_{a_t} P_{s_t;a_t} R_{s_{t+1}} + \\gamma \\max P_{s_{t+2};a_{t+1}} V^*$$\n",
    "\n",
    "Define $T$ as Bellman operator, solve for the fixed point: $ V = TV $ and we have $V^*$"
   ]
  },
  {
   "cell_type": "code",
   "execution_count": 2,
   "metadata": {
    "collapsed": true
   },
   "outputs": [],
   "source": [
    "import numpy as np\n",
    "import pandas as pd\n",
    "import tensorflow as tf\n",
    "import gym\n",
    "from gym import wrappers\n",
    "import matplotlib.pyplot as plt\n",
    "import random\n",
    "from IPython import display\n",
    "import time\n",
    "%matplotlib inline\n",
    "float_formatter = lambda x: \"%.4f\" % x\n",
    "np.set_printoptions(formatter={'float_kind':float_formatter})\n",
    "pd.options.display.float_format = '{:20,.3f}'.format"
   ]
  },
  {
   "cell_type": "markdown",
   "metadata": {},
   "source": [
    "### Check here for the explanation of the game: https://gym.openai.com/envs/Taxi-v1/"
   ]
  },
  {
   "cell_type": "code",
   "execution_count": 3,
   "metadata": {},
   "outputs": [
    {
     "name": "stderr",
     "output_type": "stream",
     "text": [
      "[2017-11-30 01:39:24,064] Making new env: Taxi-v2\n"
     ]
    }
   ],
   "source": [
    "# env = gym.make('FrozenLake-v0')\n",
    "env = gym.make('Taxi-v2')\n",
    "# env = gym.make('SpaceInvaders-v0')"
   ]
  },
  {
   "cell_type": "code",
   "execution_count": 4,
   "metadata": {},
   "outputs": [
    {
     "data": {
      "text/plain": [
       "Discrete(500)"
      ]
     },
     "execution_count": 4,
     "metadata": {},
     "output_type": "execute_result"
    }
   ],
   "source": [
    "env.observation_space"
   ]
  },
  {
   "cell_type": "code",
   "execution_count": 5,
   "metadata": {
    "collapsed": true
   },
   "outputs": [],
   "source": [
    "def getP(C): #Get transition matrix from counts\n",
    "    P = C/np.sum(C,axis=2)[:,:,np.newaxis]\n",
    "    return(P)"
   ]
  },
  {
   "cell_type": "code",
   "execution_count": 6,
   "metadata": {
    "collapsed": true
   },
   "outputs": [],
   "source": [
    "V = np.zeros(env.observation_space.n) #Value\n",
    "C = np.zeros([env.action_space.n,env.observation_space.n,env.observation_space.n])+0.01 #Count\n",
    "R = np.zeros([env.action_space.n,env.observation_space.n,env.observation_space.n]) # Reward\n",
    "rList = []\n",
    "avgRList = []"
   ]
  },
  {
   "cell_type": "code",
   "execution_count": 7,
   "metadata": {
    "collapsed": true
   },
   "outputs": [],
   "source": [
    "P = getP(C) #Get transition matrix"
   ]
  },
  {
   "cell_type": "code",
   "execution_count": 9,
   "metadata": {},
   "outputs": [
    {
     "name": "stdout",
     "output_type": "stream",
     "text": [
      "Episode  1500\n"
     ]
    }
   ],
   "source": [
    "episodeMax = 1500\n",
    "gamma = 0.99\n",
    "weight = 0.85\n",
    "flag = True\n",
    "\n",
    "for episode in range(episodeMax):\n",
    "    display.clear_output(wait=False)\n",
    "    print('Episode ',episode+1)\n",
    "    state = env.reset()\n",
    "    done = False\n",
    "    while not done:\n",
    "        statePre = state\n",
    "        P =getP(C)\n",
    "        #Compute reward\n",
    "        VconditionStatePre  =np.einsum('ij,ij->i',R[:,statePre,:],P[:,statePre,:])+gamma*np.dot(P[:,statePre,:],V)\n",
    "        a = np.argmax(VconditionStatePre+np.random.randn(env.action_space.n)*(1/(1.0+episode)))\n",
    "        state,reward,done,info =  env.step(a)\n",
    "        R[a,statePre,state] =  R[a,statePre,state]*(1-weight) + reward*weight\n",
    "        C[a,statePre,state] += 1\n",
    "        V[statePre,] = V[statePre,]*(1-weight)+(weight)*(R[a,statePre,state]+np.dot(P[a,statePre,:],V)*gamma)\n",
    "        \n",
    "    if done:\n",
    "        rList.append(reward)\n",
    "        if episode >100:\n",
    "            avgR = sum(rList[-100:])/100\n",
    "            avgRList.append(avgR)\n",
    "            if avgR>9.7 and flag:\n",
    "                flag = False\n",
    "                print('Benchmark reached at least before episode '+str(episode))\n",
    "        \n",
    "        "
   ]
  },
  {
   "cell_type": "code",
   "execution_count": 16,
   "metadata": {
    "scrolled": true
   },
   "outputs": [
    {
     "data": {
      "text/plain": [
       "[<matplotlib.lines.Line2D at 0x7f091f985358>]"
      ]
     },
     "execution_count": 16,
     "metadata": {},
     "output_type": "execute_result"
    },
    {
     "data": {
      "image/png": "[encoded data removed]",
      "text/plain": [
       "<matplotlib.figure.Figure at 0x7f091f9bb240>"
      ]
     },
     "metadata": {},
     "output_type": "display_data"
    }
   ],
   "source": [
    "#Last-100 average score over training\n",
    "plt.plot(avgRList)"
   ]
  },
  {
   "cell_type": "markdown",
   "metadata": {},
   "source": [
    "Demostrate one episode"
   ]
  },
  {
   "cell_type": "code",
   "execution_count": 11,
   "metadata": {
    "collapsed": true
   },
   "outputs": [],
   "source": [
    "# env_mon = gym.wrappers.Monitor(env, 'tmp/Taxi-experiment-1',force=True)\n",
    "env_mon = env"
   ]
  },
  {
   "cell_type": "code",
   "execution_count": 15,
   "metadata": {},
   "outputs": [
    {
     "name": "stdout",
     "output_type": "stream",
     "text": [
      "+---------+\n",
      "|R: | : :G|\n",
      "| : : : : |\n",
      "| : : : : |\n",
      "| | : | : |\n",
      "|\u001b[35m\u001b[42mY\u001b[0m\u001b[0m| : |B: |\n",
      "+---------+\n",
      "  (Dropoff)\n"
     ]
    }
   ],
   "source": [
    "# Run this block of code to see the game plays rendered in real time.\n",
    "playEpisode = 10\n",
    "for i in range(playEpisode):\n",
    "    display.clear_output(wait=True)\n",
    "    print('Episode ',i+1) \n",
    "    time.sleep(0.8)\n",
    "    state = env_mon.reset()\n",
    "    done = False\n",
    "    display.clear_output(wait=True)\n",
    "    env_mon.render()\n",
    "    stuck = False\n",
    "    while not done:\n",
    "            time.sleep(0.3)\n",
    "            statePre = state\n",
    "            VconditionStatePre  =np.einsum('ij,ij->i',R[:,statePre,:],P[:,statePre,:])+gamma*np.dot(P[:,statePre,:],V)\n",
    "            \n",
    "            \n",
    "            if stuck:\n",
    "                a = round(np.random.rand()*5)\n",
    "            else:\n",
    "                a = np.argmax(VconditionStatePre+np.random.randn(env_mon.action_space.n)*(1/(1.0+episode)))\n",
    "                \n",
    "            state,reward,done,info =  env_mon.step(a)\n",
    "            display.clear_output(wait=True)\n",
    "            env_mon.render()\n",
    "            if state == statePre:\n",
    "                stuck = True\n",
    "            else:\n",
    "                stuck = False\n",
    "        \n",
    "    "
   ]
  },
  {
   "cell_type": "code",
   "execution_count": 38,
   "metadata": {
    "collapsed": true
   },
   "outputs": [],
   "source": [
    "env.close()"
   ]
  }
 ],
 "metadata": {
  "anaconda-cloud": {},
  "kernelspec": {
   "display_name": "Python [conda root]",
   "language": "python",
   "name": "conda-root-py"
  },
  "language_info": {
   "codemirror_mode": {
    "name": "ipython",
    "version": 3
   },
   "file_extension": ".py",
   "mimetype": "text/x-python",
   "name": "python",
   "nbconvert_exporter": "python",
   "pygments_lexer": "ipython3",
   "version": "3.5.3"
  }
 },
 "nbformat": 4,
 "nbformat_minor": 1
}
