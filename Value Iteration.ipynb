{
 "cells": [
  {
   "cell_type": "code",
   "execution_count": 1,
   "metadata": {
    "collapsed": true
   },
   "outputs": [],
   "source": [
    "import numpy as np\n",
    "import pandas as pd\n",
    "import tensorflow as tf\n",
    "import gym\n",
    "from gym import wrappers\n",
    "import matplotlib.pyplot as plt\n",
    "import random\n",
    "from IPython import display\n",
    "%matplotlib inline\n",
    "float_formatter = lambda x: \"%.4f\" % x\n",
    "np.set_printoptions(formatter={'float_kind':float_formatter})\n",
    "pd.options.display.float_format = '{:20,.3f}'.format"
   ]
  },
  {
   "cell_type": "code",
   "execution_count": 12,
   "metadata": {
    "collapsed": false
   },
   "outputs": [
    {
     "name": "stderr",
     "output_type": "stream",
     "text": [
      "[2017-03-30 04:21:38,463] Making new env: FrozenLake-v0\n"
     ]
    }
   ],
   "source": [
    "env = gym.make('FrozenLake-v0')"
   ]
  },
  {
   "cell_type": "code",
   "execution_count": 13,
   "metadata": {
    "collapsed": false
   },
   "outputs": [
    {
     "data": {
      "text/plain": [
       "0"
      ]
     },
     "execution_count": 13,
     "metadata": {},
     "output_type": "execute_result"
    }
   ],
   "source": [
    "env.reset()"
   ]
  },
  {
   "cell_type": "code",
   "execution_count": 16,
   "metadata": {
    "collapsed": false
   },
   "outputs": [
    {
     "data": {
      "text/plain": [
       "16"
      ]
     },
     "execution_count": 16,
     "metadata": {},
     "output_type": "execute_result"
    }
   ],
   "source": [
    "env.observation_space.n"
   ]
  },
  {
   "cell_type": "markdown",
   "metadata": {},
   "source": [
    "$$V = TV$$"
   ]
  },
  {
   "cell_type": "code",
   "execution_count": 41,
   "metadata": {
    "collapsed": true
   },
   "outputs": [],
   "source": [
    "def getP(C):\n",
    "    P = C/np.sum(C,axis=2)[:,:,np.newaxis]\n",
    "    return(P)"
   ]
  },
  {
   "cell_type": "code",
   "execution_count": 210,
   "metadata": {
    "collapsed": false
   },
   "outputs": [],
   "source": [
    "V = np.zeros(env.observation_space.n)\n",
    "C = np.zeros([env.action_space.n,env.observation_space.n,env.observation_space.n])+0.01\n",
    "R = np.zeros([env.action_space.n,env.observation_space.n,env.observation_space.n])"
   ]
  },
  {
   "cell_type": "code",
   "execution_count": 211,
   "metadata": {
    "collapsed": false
   },
   "outputs": [],
   "source": [
    "P =getP(C)"
   ]
  },
  {
   "cell_type": "code",
   "execution_count": 212,
   "metadata": {
    "collapsed": false
   },
   "outputs": [],
   "source": [
    "episodeMax = 1000\n",
    "gamma = 0.99\n",
    "rList = []\n",
    "avgRList = []\n",
    "weight = 0.85\n",
    "flag = True\n",
    "\n",
    "for episode in range(episodeMax):\n",
    "    state = env.reset()\n",
    "    done = False\n",
    "    while not done:\n",
    "        statePre = state\n",
    "        P =getP(C)\n",
    "        VconditionStatePre  =np.einsum('ij,ij->i',R[:,statePre,:],P[:,statePre,:])+gamma*np.dot(P[:,statePre,:],V)\n",
    "        a = np.argmax(VconditionStatePre+np.random.randn(env.action_space.n)*(1/(1.0+episode)))\n",
    "        state,reward,done,info =  env.step(a)\n",
    "        R[a,statePre,state] =  R[a,statePre,state]*(1-weight) + reward*weight\n",
    "        C[a,statePre,state] += 1\n",
    "        V[statePre,] = V[statePre,]*(1-weight)+(weight)*(R[a,statePre,state]+np.dot(P[a,statePre,:],V)*gamma)\n",
    "        \n",
    "    if done:\n",
    "        rList.append(reward)\n",
    "    \n",
    "    if episode >100:\n",
    "                avgR = sum(rList[-100:])/100\n",
    "                avgRList.append(avgR)\n",
    "    if avgR>0.7 and flag:\n",
    "        flag = False\n",
    "        print(episode)\n",
    "        \n",
    "        "
   ]
  },
  {
   "cell_type": "code",
   "execution_count": 213,
   "metadata": {
    "collapsed": false
   },
   "outputs": [
    {
     "data": {
      "text/plain": [
       "[<matplotlib.lines.Line2D at 0x7f58a584f668>]"
      ]
     },
     "execution_count": 213,
     "metadata": {},
     "output_type": "execute_result"
    },
    {
     "data": {
      "image/png": "[encoded data removed]",
      "text/plain": [
       "<matplotlib.figure.Figure at 0x7f58a5891198>"
      ]
     },
     "metadata": {},
     "output_type": "display_data"
    }
   ],
   "source": [
    "plt.plot(avgRList)"
   ]
  }
 ],
 "metadata": {
  "anaconda-cloud": {},
  "kernelspec": {
   "display_name": "Python [conda root]",
   "language": "python",
   "name": "conda-root-py"
  },
  "language_info": {
   "codemirror_mode": {
    "name": "ipython",
    "version": 3
   },
   "file_extension": ".py",
   "mimetype": "text/x-python",
   "name": "python",
   "nbconvert_exporter": "python",
   "pygments_lexer": "ipython3",
   "version": "3.5.2"
  }
 },
 "nbformat": 4,
 "nbformat_minor": 1
}
