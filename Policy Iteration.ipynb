{
 "cells": [
  {
   "cell_type": "code",
   "execution_count": null,
   "metadata": {
    "collapsed": true
   },
   "outputs": [],
   "source": [
    "import numpy as np\n",
    "import pandas as pd\n",
    "import tensorflow as tf\n",
    "import gym\n",
    "from gym import wrappers\n",
    "import matplotlib.pyplot as plt\n",
    "import random\n",
    "from IPython import display\n",
    "import time\n",
    "%matplotlib inline\n",
    "float_formatter = lambda x: \"%.4f\" % x\n",
    "np.set_printoptions(formatter={'float_kind':float_formatter})\n",
    "pd.options.display.float_format = '{:20,.3f}'.format"
   ]
  },
  {
   "cell_type": "code",
   "execution_count": null,
   "metadata": {
    "collapsed": false
   },
   "outputs": [],
   "source": [
    "env = gym.make('Taxi-v2')\n",
    "# env = gym.make('FrozenLake-v0')"
   ]
  },
  {
   "cell_type": "code",
   "execution_count": null,
   "metadata": {
    "collapsed": true
   },
   "outputs": [],
   "source": [
    "def getP(C):\n",
    "    P = C/np.sum(C,axis=2)[:,:,np.newaxis]\n",
    "    return(P)"
   ]
  },
  {
   "cell_type": "code",
   "execution_count": null,
   "metadata": {
    "collapsed": false
   },
   "outputs": [],
   "source": [
    "V = np.zeros(env.observation_space.n)\n",
    "C = np.zeros([env.action_space.n,env.observation_space.n,env.observation_space.n])+0.01\n",
    "R = np.zeros([env.action_space.n,env.observation_space.n,env.observation_space.n])\n",
    "Pi = np.random.randint(env.action_space.n,size = (env.observation_space.n))\n",
    "P = getP(C)\n",
    "# P = np.zeros([env.observation_space.n,env.observation_space.n,])+1/(env.observation_space.n)"
   ]
  },
  {
   "cell_type": "code",
   "execution_count": null,
   "metadata": {
    "collapsed": false
   },
   "outputs": [],
   "source": [
    "episodeMax = 1500\n",
    "gamma = 0.99\n",
    "done = False\n",
    "weight = 0.95\n",
    "\n",
    "rList = []\n",
    "avgRList = []\n",
    "flag = True\n",
    "\n",
    "for episode in range(episodeMax):\n",
    "    state = env.reset()\n",
    "    done = False\n",
    "    while not done:\n",
    "        statePre = state\n",
    "        a = Pi[statePre]\n",
    "        state,reward,done,info = env.step(a)\n",
    "        R[a,statePre,state] =  R[a,statePre,state]*(1-weight) + reward*weight\n",
    "        C[a,statePre,state] += 1\n",
    "        P = getP(C)\n",
    "        \n",
    "        # evaluate the current policy\n",
    "        V[statePre] = V[statePre]*(1-weight)+(weight)*np.dot(P[a,statePre,:],(R[a,statePre,:]+V*gamma).T)\n",
    "        \n",
    "        # improve policy\n",
    "#         QBest = V\n",
    "        Qsa =np.einsum('ijk,ijk->ji',P[:,:,:],R[:,:,:]+V[np.newaxis,np.newaxis,:]*gamma)\n",
    "        Pi = np.argmax(Qsa+0.05*np.random.rand(env.observation_space.n,env.action_space.n),axis = 1)\n",
    "        \n",
    "    if done:\n",
    "        rList.append(reward)\n",
    "    \n",
    "    if episode >100:\n",
    "        avgR = sum(rList[-100:])/100\n",
    "        avgRList.append(avgR)\n",
    "        if avgR>0.70 and flag:\n",
    "            flag = False\n",
    "            print(episode)"
   ]
  },
  {
   "cell_type": "code",
   "execution_count": null,
   "metadata": {
    "collapsed": false
   },
   "outputs": [],
   "source": [
    "plt.plot(avgRList)"
   ]
  }
 ],
 "metadata": {
  "anaconda-cloud": {},
  "kernelspec": {
   "display_name": "Python [conda root]",
   "language": "python",
   "name": "conda-root-py"
  },
  "language_info": {
   "codemirror_mode": {
    "name": "ipython",
    "version": 3
   },
   "file_extension": ".py",
   "mimetype": "text/x-python",
   "name": "python",
   "nbconvert_exporter": "python",
   "pygments_lexer": "ipython3",
   "version": "3.5.2"
  }
 },
 "nbformat": 4,
 "nbformat_minor": 1
}
