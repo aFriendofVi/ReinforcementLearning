{
 "cells": [
  {
   "cell_type": "markdown",
   "metadata": {},
   "source": [
    "## The formula\n",
    "\n",
    "Different from Value iteration, policy iteration keeps track of the policy.\n",
    "\n",
    "In every loop, it improve the estimate of the value $V$ of policy $\\pi$:\n",
    "\n",
    "$$ V^{\\pi}(s_0) = \\mathbb{E}[\\sum_{t=0}^{\\infty}\\gamma^t r(s_t,s_{t+1},a^{\\pi}) ]$$\n",
    "\n",
    "$$ V^{\\pi}(s_t) = \\mathbb{E}[r(s_t, s_{t+1}, a^{\\pi})]_{|s_t} + \\gamma \\int_S Prob(s_{t} | s_{t-1}, a^{\\pi}) V^{\\pi}(s_{t}) d s_{t}$$\n",
    "\n",
    "Discrete action space case:\n",
    "\n",
    "$$ V^{\\pi}(s_t) = P_{s_t;a^{\\pi}} R_{s_{t+1}} + \\gamma P_{s_{t-1};a^{\\pi}} V^{\\pi}$$\n",
    "\n",
    "Then improve the policy $\\pi$:\n",
    "\n",
    "$$ \\pi(s) = argmax_a ( P_{s;a}^T R_{s'} + \\gamma P_{s_{t+1};a^{\\pi}}^T V^{\\pi} )$$\n",
    "\n",
    "Eventually we explicitly have optimal policy $\\pi^*$"
   ]
  },
  {
   "cell_type": "code",
   "execution_count": 11,
   "metadata": {
    "collapsed": true
   },
   "outputs": [],
   "source": [
    "import numpy as np\n",
    "import pandas as pd\n",
    "import tensorflow as tf\n",
    "import gym\n",
    "from gym import wrappers\n",
    "import matplotlib.pyplot as plt\n",
    "import random\n",
    "from IPython import display\n",
    "import time\n",
    "%matplotlib inline\n",
    "float_formatter = lambda x: \"%.4f\" % x\n",
    "np.set_printoptions(formatter={'float_kind':float_formatter})\n",
    "pd.options.display.float_format = '{:20,.3f}'.format"
   ]
  },
  {
   "cell_type": "code",
   "execution_count": 12,
   "metadata": {},
   "outputs": [
    {
     "name": "stderr",
     "output_type": "stream",
     "text": [
      "[2017-11-30 01:31:13,813] Making new env: Taxi-v2\n"
     ]
    }
   ],
   "source": [
    "env = gym.make('Taxi-v2')\n",
    "# env = gym.make('FrozenLake-v0')"
   ]
  },
  {
   "cell_type": "markdown",
   "metadata": {},
   "source": [
    "## Check here for the explanation of the game: https://gym.openai.com/envs/Taxi-v1/"
   ]
  },
  {
   "cell_type": "code",
   "execution_count": 13,
   "metadata": {
    "collapsed": true
   },
   "outputs": [],
   "source": [
    "def getP(C):\n",
    "    P = C/np.sum(C,axis=2)[:,:,np.newaxis]\n",
    "    return(P)"
   ]
  },
  {
   "cell_type": "code",
   "execution_count": 14,
   "metadata": {
    "collapsed": true
   },
   "outputs": [],
   "source": [
    "V = np.zeros(env.observation_space.n)\n",
    "C = np.zeros([env.action_space.n,env.observation_space.n,env.observation_space.n])+0.01\n",
    "R = np.zeros([env.action_space.n,env.observation_space.n,env.observation_space.n])\n",
    "Pi = np.random.randint(env.action_space.n,size = (env.observation_space.n))\n",
    "P = getP(C)\n",
    "# P = np.zeros([env.observation_space.n,env.observation_space.n,])+1/(env.observation_space.n)"
   ]
  },
  {
   "cell_type": "code",
   "execution_count": 15,
   "metadata": {},
   "outputs": [
    {
     "name": "stdout",
     "output_type": "stream",
     "text": [
      "101\n"
     ]
    }
   ],
   "source": [
    "episodeMax = 250\n",
    "gamma = 0.99\n",
    "done = False\n",
    "weight = 0.95\n",
    "\n",
    "rList = []\n",
    "avgRList = []\n",
    "flag = True\n",
    "\n",
    "for episode in range(episodeMax):\n",
    "    state = env.reset()\n",
    "    done = False\n",
    "    while not done:\n",
    "        statePre = state\n",
    "        a = Pi[statePre]\n",
    "        state,reward,done,info = env.step(a)\n",
    "        R[a,statePre,state] =  R[a,statePre,state]*(1-weight) + reward*weight\n",
    "        C[a,statePre,state] += 1\n",
    "        P = getP(C)\n",
    "        \n",
    "        # evaluate the current policy\n",
    "        V[statePre] = V[statePre]*(1-weight)+(weight)*np.dot(P[a,statePre,:],(R[a,statePre,:]+V*gamma).T)\n",
    "        \n",
    "        # improve policy\n",
    "#         QBest = V\n",
    "        Qsa =np.einsum('ijk,ijk->ji',P[:,:,:],R[:,:,:]+V[np.newaxis,np.newaxis,:]*gamma)\n",
    "        Pi = np.argmax(Qsa+0.05*np.random.rand(env.observation_space.n,env.action_space.n),axis = 1)\n",
    "        \n",
    "    if done:\n",
    "        rList.append(reward)\n",
    "    \n",
    "    if episode >100: #compute the average score after certain episodes\n",
    "        avgR = sum(rList[-100:])/100\n",
    "        avgRList.append(avgR)\n",
    "        #if the average score of last 100 episode is greater than benchmark\n",
    "        # 9.7 for taxi and 0.7 for frozen lake\n",
    "        if avgR>9.7 and flag: \n",
    "            flag = False\n",
    "            print(episode)"
   ]
  },
  {
   "cell_type": "code",
   "execution_count": 16,
   "metadata": {
    "scrolled": true
   },
   "outputs": [
    {
     "data": {
      "text/plain": [
       "[<matplotlib.lines.Line2D at 0x7f9d5bcbfd68>]"
      ]
     },
     "execution_count": 16,
     "metadata": {},
     "output_type": "execute_result"
    },
    {
     "data": {
      "image/png": "[encoded data removed]",
      "text/plain": [
       "<matplotlib.figure.Figure at 0x7f9d5b8ba358>"
      ]
     },
     "metadata": {},
     "output_type": "display_data"
    }
   ],
   "source": [
    "plt.plot(avgRList)"
   ]
  },
  {
   "cell_type": "code",
   "execution_count": 17,
   "metadata": {
    "collapsed": true
   },
   "outputs": [],
   "source": [
    "env.close()"
   ]
  }
 ],
 "metadata": {
  "anaconda-cloud": {},
  "kernelspec": {
   "display_name": "Python [conda root]",
   "language": "python",
   "name": "conda-root-py"
  },
  "language_info": {
   "codemirror_mode": {
    "name": "ipython",
    "version": 3
   },
   "file_extension": ".py",
   "mimetype": "text/x-python",
   "name": "python",
   "nbconvert_exporter": "python",
   "pygments_lexer": "ipython3",
   "version": "3.5.3"
  }
 },
 "nbformat": 4,
 "nbformat_minor": 1
}
